{
 "cells": [
  {
   "cell_type": "code",
   "execution_count": 1,
   "metadata": {},
   "outputs": [],
   "source": [
    "# Multiple classifiers on KDD"
   ]
  },
  {
   "cell_type": "code",
   "execution_count": 2,
   "metadata": {
    "colab": {},
    "colab_type": "code",
    "id": "ruarCb1ad0XM"
   },
   "outputs": [
    {
     "name": "stderr",
     "output_type": "stream",
     "text": [
      "/home/manero/DL/lib/python3.8/site-packages/xgboost/compat.py:36: FutureWarning: pandas.Int64Index is deprecated and will be removed from pandas in a future version. Use pandas.Index with the appropriate dtype instead.\n",
      "  from pandas import MultiIndex, Int64Index\n"
     ]
    }
   ],
   "source": [
    "import pandas as pd\n",
    "import numpy as np\n",
    "import sys\n",
    "import xgboost\n",
    "import itertools\n",
    "import matplotlib.pyplot as plt\n",
    "from sklearn.preprocessing import LabelEncoder\n",
    "from sklearn.model_selection import train_test_split\n",
    "from sklearn.model_selection import cross_val_predict\n",
    "from sklearn.metrics import (precision_score, recall_score,f1_score, accuracy_score,mean_squared_error,mean_absolute_error)\n",
    "from sklearn.preprocessing import Normalizer\n",
    "from sklearn.tree import DecisionTreeClassifier\n",
    "from sklearn.ensemble import RandomForestClassifier\n",
    "from sklearn.metrics import classification_report,confusion_matrix\n",
    "from sklearn.linear_model import LogisticRegression\n",
    "from sklearn.model_selection import cross_val_score\n",
    "from sklearn.naive_bayes import MultinomialNB\n",
    "from sklearn import model_selection, preprocessing, linear_model, naive_bayes, metrics, svm\n",
    "from sklearn.preprocessing import label_binarize\n",
    "from sklearn.metrics import roc_curve, auc\n",
    "from sklearn.preprocessing import StandardScaler\n",
    "from sklearn.pipeline import Pipeline\n",
    "from sklearn.model_selection import GridSearchCV"
   ]
  },
  {
   "cell_type": "code",
   "execution_count": 3,
   "metadata": {
    "colab": {
     "base_uri": "https://localhost:8080/",
     "height": 34
    },
    "colab_type": "code",
    "id": "IglRPsH6GZUL",
    "outputId": "6218ccc1-71a6-4242-9ae3-7eff497dce1f"
   },
   "outputs": [
    {
     "name": "stdout",
     "output_type": "stream",
     "text": [
      "Automatically created module for IPython interactive environment\n"
     ]
    }
   ],
   "source": [
    "#Learning Curve\n",
    "# from https://scikit-learn.org/stable/auto_examples/model_selection/plot_learning_curve.html\n",
    "print(__doc__)\n",
    "\n",
    "import numpy as np\n",
    "import matplotlib.pyplot as plt\n",
    "from sklearn.naive_bayes import GaussianNB\n",
    "from sklearn.svm import SVC\n",
    "from sklearn.datasets import load_digits\n",
    "from sklearn.model_selection import learning_curve\n",
    "from sklearn.model_selection import ShuffleSplit\n",
    "\n",
    "def plot_learning_curve(estimator, title, X, y, ylim=None, cv=None,\n",
    "                        n_jobs=None, train_sizes=np.linspace(.1, 1.0, 5)):\n",
    "   \n",
    "    plt.figure()\n",
    "    plt.title(title)\n",
    "    if ylim is not None:\n",
    "        plt.ylim(*ylim)\n",
    "    plt.xlabel(\"Training examples\")\n",
    "    plt.ylabel(\"Score\")\n",
    "    train_sizes, train_scores, test_scores = learning_curve(\n",
    "        estimator, X, y, cv=cv, n_jobs=n_jobs, train_sizes=train_sizes)\n",
    "    train_scores_mean = np.mean(train_scores, axis=1)\n",
    "    train_scores_std = np.std(train_scores, axis=1)\n",
    "    test_scores_mean = np.mean(test_scores, axis=1)\n",
    "    test_scores_std = np.std(test_scores, axis=1)\n",
    "    plt.grid()\n",
    "\n",
    "    plt.fill_between(train_sizes, train_scores_mean - train_scores_std,\n",
    "                     train_scores_mean + train_scores_std, alpha=0.1,\n",
    "                     color=\"r\")\n",
    "    plt.fill_between(train_sizes, test_scores_mean - test_scores_std,\n",
    "                     test_scores_mean + test_scores_std, alpha=0.1, color=\"g\")\n",
    "    plt.plot(train_sizes, train_scores_mean, 'o-', color=\"r\",\n",
    "             label=\"Training score\")\n",
    "    plt.plot(train_sizes, test_scores_mean, 'o-', color=\"g\",\n",
    "             label=\"Cross-validation score\")\n",
    "\n",
    "    plt.legend(loc=\"best\")\n",
    "    return plt\n"
   ]
  },
  {
   "cell_type": "code",
   "execution_count": 4,
   "metadata": {
    "colab": {},
    "colab_type": "code",
    "id": "M1kwbnfzbAW3"
   },
   "outputs": [],
   "source": [
    "#Confusion matrix\n",
    "# from https://scikit-learn.org/stable/modules/generated/sklearn.metrics.confusion_matrix.html\n",
    "\n",
    "def plot_confusion_matrix(y_true, y_pred, classes,\n",
    "                          normalize=False,\n",
    "                          title=None,\n",
    "                          cmap=plt.cm.Reds):\n",
    "    \n",
    "    if not title:\n",
    "        if normalize:\n",
    "            title = 'Normalized confusion matrix'\n",
    "        else:\n",
    "            title = 'Confusion matrix, without normalization'\n",
    "\n",
    "    # Compute confusion matrix\n",
    "    cm = confusion_matrix(y_true, y_pred)\n",
    "    # Only use the labels that appear in the data\n",
    "    classes = classes[unique_labels(y_true, y_pred)]\n",
    "    if normalize:\n",
    "        cm = cm.astype('float') / cm.sum(axis=1)[:, np.newaxis]\n",
    "        print(\"Normalized confusion matrix\")\n",
    "    else:\n",
    "        print('Confusion matrix, without normalization')\n",
    "\n",
    "    print(cm)\n",
    "\n",
    "    fig, ax = plt.subplots()\n",
    "    im = ax.imshow(cm, interpolation='nearest', cmap=cmap)\n",
    "    ax.figure.colorbar(im, ax=ax)\n",
    "    # We want to show all ticks...\n",
    "    ax.set(xticks=np.arange(cm.shape[1]),\n",
    "           yticks=np.arange(cm.shape[0]),\n",
    "           # ... and label them with the respective list entries\n",
    "           xticklabels=classes, yticklabels=classes,\n",
    "           title=title,\n",
    "           ylabel='True label',\n",
    "           xlabel='Predicted label')\n",
    "\n",
    "    # Rotate the tick labels and set their alignment.\n",
    "    plt.setp(ax.get_xticklabels(), rotation=45, ha=\"right\",\n",
    "             rotation_mode=\"anchor\")\n",
    "\n",
    "    # Loop over data dimensions and create text annotations.\n",
    "    fmt = '.2f' if normalize else 'd'\n",
    "    thresh = cm.max() / 2.\n",
    "    for i in range(cm.shape[0]):\n",
    "        for j in range(cm.shape[1]):\n",
    "            ax.text(j, i, format(cm[i, j], fmt),\n",
    "                    ha=\"center\", va=\"center\",\n",
    "                    color=\"white\" if cm[i, j] > thresh else \"black\")\n",
    "    fig.tight_layout()\n",
    "    return ax\n",
    "\n",
    "np.set_printoptions(precision=2)\n"
   ]
  },
  {
   "cell_type": "code",
   "execution_count": 5,
   "metadata": {
    "colab": {
     "base_uri": "https://localhost:8080/",
     "height": 50
    },
    "colab_type": "code",
    "id": "szRfrr9Nffy_",
    "outputId": "dac4b377-e40c-4c66-dcd0-986a3ee26b4d"
   },
   "outputs": [
    {
     "name": "stdout",
     "output_type": "stream",
     "text": [
      "Dimensions of the Training set: (125973, 42)\n",
      "Dimensions of the Test set: (22544, 42)\n"
     ]
    },
    {
     "name": "stderr",
     "output_type": "stream",
     "text": [
      "/tmp/ipykernel_5867/607970981.py:13: ParserWarning: Length of header or names does not match length of data. This leads to a loss of data with index_col=False.\n",
      "  df=pd.read_csv('./NSL-KDD/KDDTrain+.txt', header=None, names= col_names, index_col=False )\n",
      "/tmp/ipykernel_5867/607970981.py:14: ParserWarning: Length of header or names does not match length of data. This leads to a loss of data with index_col=False.\n",
      "  df_test=pd.read_csv('./NSL-KDD/KDDTest+.txt', header=None, names= col_names, index_col=False)\n"
     ]
    }
   ],
   "source": [
    "col_names = [\"duration\",\"protocol_type\",\"service\",\"flag\",\"src_bytes\",\n",
    "    \"dst_bytes\",\"land\",\"wrong_fragment\",\"urgent\",\"hot\",\"num_failed_logins\",\n",
    "    \"logged_in\",\"num_compromised\",\"root_shell\",\"su_attempted\",\"num_root\",\n",
    "    \"num_file_creations\",\"num_shells\",\"num_access_files\",\"num_outbound_cmds\",\n",
    "    \"is_host_login\",\"is_guest_login\",\"count\",\"srv_count\",\"serror_rate\",\n",
    "    \"srv_serror_rate\",\"rerror_rate\",\"srv_rerror_rate\",\"same_srv_rate\",\n",
    "    \"diff_srv_rate\",\"srv_diff_host_rate\",\"dst_host_count\",\"dst_host_srv_count\",\n",
    "    \"dst_host_same_srv_rate\",\"dst_host_diff_srv_rate\",\"dst_host_same_src_port_rate\",\n",
    "    \"dst_host_srv_diff_host_rate\",\"dst_host_serror_rate\",\"dst_host_srv_serror_rate\",\n",
    "    \"dst_host_rerror_rate\",\"dst_host_srv_rerror_rate\",\"label\"]\n",
    "\n",
    "# KDDTrain+.csv & KDDTest+.csv are the datafiles without the the difficulty score\n",
    "df=pd.read_csv('./NSL-KDD/KDDTrain+.txt', header=None, names= col_names, index_col=False )\n",
    "df_test=pd.read_csv('./NSL-KDD/KDDTest+.txt', header=None, names= col_names, index_col=False)\n",
    "# shape, this gives the dimensions of the dataset\n",
    "print('Dimensions of the Training set:',df.shape)\n",
    "print('Dimensions of the Test set:',df_test.shape)"
   ]
  },
  {
   "cell_type": "code",
   "execution_count": 6,
   "metadata": {
    "colab": {
     "base_uri": "https://localhost:8080/",
     "height": 215
    },
    "colab_type": "code",
    "id": "y116ebDKhJ7R",
    "outputId": "f15648ba-ec19-4d8e-a492-b3fce0019d3c"
   },
   "outputs": [
    {
     "data": {
      "text/html": [
       "<div>\n",
       "<style scoped>\n",
       "    .dataframe tbody tr th:only-of-type {\n",
       "        vertical-align: middle;\n",
       "    }\n",
       "\n",
       "    .dataframe tbody tr th {\n",
       "        vertical-align: top;\n",
       "    }\n",
       "\n",
       "    .dataframe thead th {\n",
       "        text-align: right;\n",
       "    }\n",
       "</style>\n",
       "<table border=\"1\" class=\"dataframe\">\n",
       "  <thead>\n",
       "    <tr style=\"text-align: right;\">\n",
       "      <th></th>\n",
       "      <th>duration</th>\n",
       "      <th>protocol_type</th>\n",
       "      <th>service</th>\n",
       "      <th>flag</th>\n",
       "      <th>src_bytes</th>\n",
       "      <th>dst_bytes</th>\n",
       "      <th>land</th>\n",
       "      <th>wrong_fragment</th>\n",
       "      <th>urgent</th>\n",
       "      <th>hot</th>\n",
       "      <th>...</th>\n",
       "      <th>dst_host_srv_count</th>\n",
       "      <th>dst_host_same_srv_rate</th>\n",
       "      <th>dst_host_diff_srv_rate</th>\n",
       "      <th>dst_host_same_src_port_rate</th>\n",
       "      <th>dst_host_srv_diff_host_rate</th>\n",
       "      <th>dst_host_serror_rate</th>\n",
       "      <th>dst_host_srv_serror_rate</th>\n",
       "      <th>dst_host_rerror_rate</th>\n",
       "      <th>dst_host_srv_rerror_rate</th>\n",
       "      <th>label</th>\n",
       "    </tr>\n",
       "  </thead>\n",
       "  <tbody>\n",
       "    <tr>\n",
       "      <th>0</th>\n",
       "      <td>0</td>\n",
       "      <td>tcp</td>\n",
       "      <td>ftp_data</td>\n",
       "      <td>SF</td>\n",
       "      <td>491</td>\n",
       "      <td>0</td>\n",
       "      <td>0</td>\n",
       "      <td>0</td>\n",
       "      <td>0</td>\n",
       "      <td>0</td>\n",
       "      <td>...</td>\n",
       "      <td>25</td>\n",
       "      <td>0.17</td>\n",
       "      <td>0.03</td>\n",
       "      <td>0.17</td>\n",
       "      <td>0.00</td>\n",
       "      <td>0.00</td>\n",
       "      <td>0.00</td>\n",
       "      <td>0.05</td>\n",
       "      <td>0.00</td>\n",
       "      <td>normal</td>\n",
       "    </tr>\n",
       "    <tr>\n",
       "      <th>1</th>\n",
       "      <td>0</td>\n",
       "      <td>udp</td>\n",
       "      <td>other</td>\n",
       "      <td>SF</td>\n",
       "      <td>146</td>\n",
       "      <td>0</td>\n",
       "      <td>0</td>\n",
       "      <td>0</td>\n",
       "      <td>0</td>\n",
       "      <td>0</td>\n",
       "      <td>...</td>\n",
       "      <td>1</td>\n",
       "      <td>0.00</td>\n",
       "      <td>0.60</td>\n",
       "      <td>0.88</td>\n",
       "      <td>0.00</td>\n",
       "      <td>0.00</td>\n",
       "      <td>0.00</td>\n",
       "      <td>0.00</td>\n",
       "      <td>0.00</td>\n",
       "      <td>normal</td>\n",
       "    </tr>\n",
       "    <tr>\n",
       "      <th>2</th>\n",
       "      <td>0</td>\n",
       "      <td>tcp</td>\n",
       "      <td>private</td>\n",
       "      <td>S0</td>\n",
       "      <td>0</td>\n",
       "      <td>0</td>\n",
       "      <td>0</td>\n",
       "      <td>0</td>\n",
       "      <td>0</td>\n",
       "      <td>0</td>\n",
       "      <td>...</td>\n",
       "      <td>26</td>\n",
       "      <td>0.10</td>\n",
       "      <td>0.05</td>\n",
       "      <td>0.00</td>\n",
       "      <td>0.00</td>\n",
       "      <td>1.00</td>\n",
       "      <td>1.00</td>\n",
       "      <td>0.00</td>\n",
       "      <td>0.00</td>\n",
       "      <td>neptune</td>\n",
       "    </tr>\n",
       "    <tr>\n",
       "      <th>3</th>\n",
       "      <td>0</td>\n",
       "      <td>tcp</td>\n",
       "      <td>http</td>\n",
       "      <td>SF</td>\n",
       "      <td>232</td>\n",
       "      <td>8153</td>\n",
       "      <td>0</td>\n",
       "      <td>0</td>\n",
       "      <td>0</td>\n",
       "      <td>0</td>\n",
       "      <td>...</td>\n",
       "      <td>255</td>\n",
       "      <td>1.00</td>\n",
       "      <td>0.00</td>\n",
       "      <td>0.03</td>\n",
       "      <td>0.04</td>\n",
       "      <td>0.03</td>\n",
       "      <td>0.01</td>\n",
       "      <td>0.00</td>\n",
       "      <td>0.01</td>\n",
       "      <td>normal</td>\n",
       "    </tr>\n",
       "    <tr>\n",
       "      <th>4</th>\n",
       "      <td>0</td>\n",
       "      <td>tcp</td>\n",
       "      <td>http</td>\n",
       "      <td>SF</td>\n",
       "      <td>199</td>\n",
       "      <td>420</td>\n",
       "      <td>0</td>\n",
       "      <td>0</td>\n",
       "      <td>0</td>\n",
       "      <td>0</td>\n",
       "      <td>...</td>\n",
       "      <td>255</td>\n",
       "      <td>1.00</td>\n",
       "      <td>0.00</td>\n",
       "      <td>0.00</td>\n",
       "      <td>0.00</td>\n",
       "      <td>0.00</td>\n",
       "      <td>0.00</td>\n",
       "      <td>0.00</td>\n",
       "      <td>0.00</td>\n",
       "      <td>normal</td>\n",
       "    </tr>\n",
       "  </tbody>\n",
       "</table>\n",
       "<p>5 rows × 42 columns</p>\n",
       "</div>"
      ],
      "text/plain": [
       "   duration protocol_type   service flag  src_bytes  dst_bytes  land  \\\n",
       "0         0           tcp  ftp_data   SF        491          0     0   \n",
       "1         0           udp     other   SF        146          0     0   \n",
       "2         0           tcp   private   S0          0          0     0   \n",
       "3         0           tcp      http   SF        232       8153     0   \n",
       "4         0           tcp      http   SF        199        420     0   \n",
       "\n",
       "   wrong_fragment  urgent  hot  ...  dst_host_srv_count  \\\n",
       "0               0       0    0  ...                  25   \n",
       "1               0       0    0  ...                   1   \n",
       "2               0       0    0  ...                  26   \n",
       "3               0       0    0  ...                 255   \n",
       "4               0       0    0  ...                 255   \n",
       "\n",
       "   dst_host_same_srv_rate  dst_host_diff_srv_rate  \\\n",
       "0                    0.17                    0.03   \n",
       "1                    0.00                    0.60   \n",
       "2                    0.10                    0.05   \n",
       "3                    1.00                    0.00   \n",
       "4                    1.00                    0.00   \n",
       "\n",
       "   dst_host_same_src_port_rate  dst_host_srv_diff_host_rate  \\\n",
       "0                         0.17                         0.00   \n",
       "1                         0.88                         0.00   \n",
       "2                         0.00                         0.00   \n",
       "3                         0.03                         0.04   \n",
       "4                         0.00                         0.00   \n",
       "\n",
       "   dst_host_serror_rate  dst_host_srv_serror_rate  dst_host_rerror_rate  \\\n",
       "0                  0.00                      0.00                  0.05   \n",
       "1                  0.00                      0.00                  0.00   \n",
       "2                  1.00                      1.00                  0.00   \n",
       "3                  0.03                      0.01                  0.00   \n",
       "4                  0.00                      0.00                  0.00   \n",
       "\n",
       "   dst_host_srv_rerror_rate    label  \n",
       "0                      0.00   normal  \n",
       "1                      0.00   normal  \n",
       "2                      0.00  neptune  \n",
       "3                      0.01   normal  \n",
       "4                      0.00   normal  \n",
       "\n",
       "[5 rows x 42 columns]"
      ]
     },
     "execution_count": 6,
     "metadata": {},
     "output_type": "execute_result"
    }
   ],
   "source": [
    "# first five rows\n",
    "df.head(5)"
   ]
  },
  {
   "cell_type": "code",
   "execution_count": 7,
   "metadata": {
    "colab": {
     "base_uri": "https://localhost:8080/",
     "height": 1000
    },
    "colab_type": "code",
    "id": "1vn_3_2YiGWA",
    "outputId": "32852df7-e19f-4dbf-b0bc-c1570469d70a"
   },
   "outputs": [
    {
     "name": "stdout",
     "output_type": "stream",
     "text": [
      "Types of attacks in Training set:\n",
      "normal             67343\n",
      "neptune            41214\n",
      "satan               3633\n",
      "ipsweep             3599\n",
      "portsweep           2931\n",
      "smurf               2646\n",
      "nmap                1493\n",
      "back                 956\n",
      "teardrop             892\n",
      "warezclient          890\n",
      "pod                  201\n",
      "guess_passwd          53\n",
      "buffer_overflow       30\n",
      "warezmaster           20\n",
      "land                  18\n",
      "imap                  11\n",
      "rootkit               10\n",
      "loadmodule             9\n",
      "ftp_write              8\n",
      "multihop               7\n",
      "phf                    4\n",
      "perl                   3\n",
      "spy                    2\n",
      "Name: label, dtype: int64\n",
      "\n",
      "Types of attacks in Test set:\n",
      "normal             9711\n",
      "neptune            4657\n",
      "guess_passwd       1231\n",
      "mscan               996\n",
      "warezmaster         944\n",
      "apache2             737\n",
      "satan               735\n",
      "processtable        685\n",
      "smurf               665\n",
      "back                359\n",
      "snmpguess           331\n",
      "saint               319\n",
      "mailbomb            293\n",
      "snmpgetattack       178\n",
      "portsweep           157\n",
      "ipsweep             141\n",
      "httptunnel          133\n",
      "nmap                 73\n",
      "pod                  41\n",
      "buffer_overflow      20\n",
      "multihop             18\n",
      "named                17\n",
      "ps                   15\n",
      "sendmail             14\n",
      "rootkit              13\n",
      "xterm                13\n",
      "teardrop             12\n",
      "xlock                 9\n",
      "land                  7\n",
      "xsnoop                4\n",
      "ftp_write             3\n",
      "worm                  2\n",
      "loadmodule            2\n",
      "perl                  2\n",
      "sqlattack             2\n",
      "udpstorm              2\n",
      "phf                   2\n",
      "imap                  1\n",
      "Name: label, dtype: int64\n"
     ]
    }
   ],
   "source": [
    "\n",
    "print('Types of attacks in Training set:')\n",
    "print(df['label'].value_counts())\n",
    "print()\n",
    "print('Types of attacks in Test set:')\n",
    "print(df_test['label'].value_counts())"
   ]
  },
  {
   "cell_type": "code",
   "execution_count": 8,
   "metadata": {
    "colab": {
     "base_uri": "https://localhost:8080/",
     "height": 101
    },
    "colab_type": "code",
    "id": "Bjv6PQnMjYYE",
    "outputId": "2d47704e-d4b9-4cf4-910d-1059aa02304a"
   },
   "outputs": [
    {
     "name": "stdout",
     "output_type": "stream",
     "text": [
      "Distribution of Categorical Features in Training set:\n",
      " The Feature 'protocol_type' has 3 categories\n",
      " The Feature 'service' has 70 categories\n",
      " The Feature 'flag' has 11 categories\n",
      " The Feature 'label' has 23 categories\n"
     ]
    }
   ],
   "source": [
    "# explore categorical features in Training set\n",
    "print('Distribution of Categorical Features in Training set:')\n",
    "for col in df.columns:\n",
    "    if df[col].dtypes == 'object' :\n",
    "      cat_col = len(df[col].unique())\n",
    "      print(\" The Feature '{col}' has {cat_col} categories\".format(col=col, cat_col=cat_col))"
   ]
  },
  {
   "cell_type": "code",
   "execution_count": 9,
   "metadata": {
    "colab": {
     "base_uri": "https://localhost:8080/",
     "height": 101
    },
    "colab_type": "code",
    "id": "l3moBuY7EsC_",
    "outputId": "21579d67-629d-496f-92a3-c31c0d6eb476"
   },
   "outputs": [
    {
     "name": "stdout",
     "output_type": "stream",
     "text": [
      "Distribution of Categorical Features in Test set:\n",
      " The Feature 'protocol_type' has 3 categories\n",
      " The Feature 'service' has 64 categories\n",
      " The Feature 'flag' has 11 categories\n",
      " The Feature 'label' has 38 categories\n"
     ]
    }
   ],
   "source": [
    "#Explorin test set\n",
    "print('Distribution of Categorical Features in Test set:')\n",
    "for col in df_test.columns:\n",
    "    if df[col].dtypes == 'object' :\n",
    "      cat_col = len(df_test[col].unique())\n",
    "      print(\" The Feature '{col}' has {cat_col} categories\".format(col=col, cat_col=cat_col))"
   ]
  },
  {
   "cell_type": "code",
   "execution_count": 10,
   "metadata": {
    "colab": {
     "base_uri": "https://localhost:8080/",
     "height": 218
    },
    "colab_type": "code",
    "id": "7XldTe03FQho",
    "outputId": "4306227e-1654-4c84-e1c9-b8a96f7ea503"
   },
   "outputs": [
    {
     "name": "stdout",
     "output_type": "stream",
     "text": [
      "  protocol_type   service flag\n",
      "0           tcp  ftp_data   SF\n",
      "1           udp     other   SF\n",
      "2           tcp   private   S0\n",
      "3           tcp      http   SF\n",
      "4           tcp      http   SF\n",
      "  protocol_type   service  flag\n",
      "0           tcp   private   REJ\n",
      "1           tcp   private   REJ\n",
      "2           tcp  ftp_data    SF\n",
      "3          icmp     eco_i    SF\n",
      "4           tcp    telnet  RSTO\n"
     ]
    }
   ],
   "source": [
    "from sklearn.preprocessing import LabelEncoder,OneHotEncoder\n",
    "categorical_columns=['protocol_type', 'service', 'flag']\n",
    "df_categorical_values = df[categorical_columns]\n",
    "testdf_categorical_values = df_test[categorical_columns]\n",
    "print(df_categorical_values.head())\n",
    "print(testdf_categorical_values.head())"
   ]
  },
  {
   "cell_type": "code",
   "execution_count": 11,
   "metadata": {
    "colab": {
     "base_uri": "https://localhost:8080/",
     "height": 50
    },
    "colab_type": "code",
    "id": "thrUY0gJeKcl",
    "outputId": "5c09e5c0-5200-4966-ce87-b918d07e99a6"
   },
   "outputs": [
    {
     "name": "stdout",
     "output_type": "stream",
     "text": [
      "84\n",
      "78\n"
     ]
    }
   ],
   "source": [
    "# Creating the dummy columns for protocol type in order to work with it later with One hot encoding\n",
    "unique_protocol=sorted(df.protocol_type.unique())\n",
    "string1 = 'Protocol_type_'\n",
    "unique_protocol2=[string1 + x for x in unique_protocol]\n",
    "# Creating the dummy columns for service\n",
    "unique_service=sorted(df.service.unique())\n",
    "string2 = 'service_'\n",
    "unique_service2=[string2 + x for x in unique_service]\n",
    "# Creating the dummy columns for flag\n",
    "unique_flag=sorted(df.flag.unique())\n",
    "string3 = 'flag_'\n",
    "unique_flag2=[string3 + x for x in unique_flag]\n",
    "# put together\n",
    "dumcols_train=unique_protocol2 + unique_service2 + unique_flag2\n",
    "print(len(dumcols_train))\n",
    "\n",
    "#do same for test set\n",
    "unique_service_test=sorted(df_test.service.unique())\n",
    "unique_service2_test=[string2 + x for x in unique_service_test]\n",
    "dumcols_test=unique_protocol2 + unique_service2_test + unique_flag2\n",
    "print(len(dumcols_test))"
   ]
  },
  {
   "cell_type": "code",
   "execution_count": 12,
   "metadata": {
    "colab": {
     "base_uri": "https://localhost:8080/",
     "height": 218
    },
    "colab_type": "code",
    "id": "XjozZawkkqQY",
    "outputId": "120118d2-b079-4f43-e5cb-5eb37854716a"
   },
   "outputs": [
    {
     "name": "stdout",
     "output_type": "stream",
     "text": [
      "   protocol_type  service  flag\n",
      "0              1       20     9\n",
      "1              2       44     9\n",
      "2              1       49     5\n",
      "3              1       24     9\n",
      "4              1       24     9\n",
      "   protocol_type  service  flag\n",
      "0              1       45     1\n",
      "1              1       45     1\n",
      "2              1       19     9\n",
      "3              0       13     9\n",
      "4              1       55     2\n"
     ]
    }
   ],
   "source": [
    "# Label Encoding on protocol_ type, service , and flag in Training dataset \n",
    "df_categorical_values_LabelEnc=df_categorical_values.apply(LabelEncoder().fit_transform)\n",
    "print(df_categorical_values_LabelEnc.head())\n",
    "# Label Encoding on protocol_ type, service , and flag in test set\n",
    "testdf_categorical_values_LabelEnc=testdf_categorical_values.apply(LabelEncoder().fit_transform)\n",
    "print(testdf_categorical_values_LabelEnc.head())\n"
   ]
  },
  {
   "cell_type": "code",
   "execution_count": 13,
   "metadata": {
    "colab": {
     "base_uri": "https://localhost:8080/",
     "height": 286
    },
    "colab_type": "code",
    "id": "MmJqxQeDsMnQ",
    "outputId": "a0665bd5-7b6a-42f7-ef8f-edf8d0d4a078"
   },
   "outputs": [
    {
     "name": "stdout",
     "output_type": "stream",
     "text": [
      "   Protocol_type_icmp  Protocol_type_tcp  Protocol_type_udp  service_IRC  \\\n",
      "0                 0.0                1.0                0.0          0.0   \n",
      "1                 0.0                0.0                1.0          0.0   \n",
      "2                 0.0                1.0                0.0          0.0   \n",
      "3                 0.0                1.0                0.0          0.0   \n",
      "4                 0.0                1.0                0.0          0.0   \n",
      "\n",
      "   service_X11  service_Z39_50  service_aol  service_auth  service_bgp  \\\n",
      "0          0.0             0.0          0.0           0.0          0.0   \n",
      "1          0.0             0.0          0.0           0.0          0.0   \n",
      "2          0.0             0.0          0.0           0.0          0.0   \n",
      "3          0.0             0.0          0.0           0.0          0.0   \n",
      "4          0.0             0.0          0.0           0.0          0.0   \n",
      "\n",
      "   service_courier  ...  flag_REJ  flag_RSTO  flag_RSTOS0  flag_RSTR  flag_S0  \\\n",
      "0              0.0  ...       0.0        0.0          0.0        0.0      0.0   \n",
      "1              0.0  ...       0.0        0.0          0.0        0.0      0.0   \n",
      "2              0.0  ...       0.0        0.0          0.0        0.0      1.0   \n",
      "3              0.0  ...       0.0        0.0          0.0        0.0      0.0   \n",
      "4              0.0  ...       0.0        0.0          0.0        0.0      0.0   \n",
      "\n",
      "   flag_S1  flag_S2  flag_S3  flag_SF  flag_SH  \n",
      "0      0.0      0.0      0.0      1.0      0.0  \n",
      "1      0.0      0.0      0.0      1.0      0.0  \n",
      "2      0.0      0.0      0.0      0.0      0.0  \n",
      "3      0.0      0.0      0.0      1.0      0.0  \n",
      "4      0.0      0.0      0.0      1.0      0.0  \n",
      "\n",
      "[5 rows x 84 columns]\n",
      "   Protocol_type_icmp  Protocol_type_tcp  Protocol_type_udp  service_IRC  \\\n",
      "0                 0.0                1.0                0.0          0.0   \n",
      "1                 0.0                1.0                0.0          0.0   \n",
      "2                 0.0                1.0                0.0          0.0   \n",
      "3                 1.0                0.0                0.0          0.0   \n",
      "4                 0.0                1.0                0.0          0.0   \n",
      "\n",
      "   service_X11  service_Z39_50  service_auth  service_bgp  service_courier  \\\n",
      "0          0.0             0.0           0.0          0.0              0.0   \n",
      "1          0.0             0.0           0.0          0.0              0.0   \n",
      "2          0.0             0.0           0.0          0.0              0.0   \n",
      "3          0.0             0.0           0.0          0.0              0.0   \n",
      "4          0.0             0.0           0.0          0.0              0.0   \n",
      "\n",
      "   service_csnet_ns  ...  flag_REJ  flag_RSTO  flag_RSTOS0  flag_RSTR  \\\n",
      "0               0.0  ...       1.0        0.0          0.0        0.0   \n",
      "1               0.0  ...       1.0        0.0          0.0        0.0   \n",
      "2               0.0  ...       0.0        0.0          0.0        0.0   \n",
      "3               0.0  ...       0.0        0.0          0.0        0.0   \n",
      "4               0.0  ...       0.0        1.0          0.0        0.0   \n",
      "\n",
      "   flag_S0  flag_S1  flag_S2  flag_S3  flag_SF  flag_SH  \n",
      "0      0.0      0.0      0.0      0.0      0.0      0.0  \n",
      "1      0.0      0.0      0.0      0.0      0.0      0.0  \n",
      "2      0.0      0.0      0.0      0.0      1.0      0.0  \n",
      "3      0.0      0.0      0.0      0.0      1.0      0.0  \n",
      "4      0.0      0.0      0.0      0.0      0.0      0.0  \n",
      "\n",
      "[5 rows x 78 columns]\n"
     ]
    }
   ],
   "source": [
    "OneEnc = OneHotEncoder(categories='auto')\n",
    "# One Hot Encoding on Training set\n",
    "df_categorical_values_OneEnc = OneEnc.fit_transform(df_categorical_values_LabelEnc)\n",
    "df_cat_data = pd.DataFrame(df_categorical_values_OneEnc.toarray(),columns=dumcols_train)\n",
    "# One Hot Encoding on Test set\n",
    "testdf_categorical_values_OneEnc = OneEnc.fit_transform(testdf_categorical_values_LabelEnc)\n",
    "testdf_cat_data = pd.DataFrame(testdf_categorical_values_OneEnc.toarray(),columns=dumcols_test)\n",
    "\n",
    "print(df_cat_data.head())\n",
    "print(testdf_cat_data.head())"
   ]
  },
  {
   "cell_type": "code",
   "execution_count": 14,
   "metadata": {
    "colab": {
     "base_uri": "https://localhost:8080/",
     "height": 54
    },
    "colab_type": "code",
    "id": "v3M8SjWZHG4l",
    "outputId": "e4284f4f-1739-4390-c473-21fc349fd19e"
   },
   "outputs": [
    {
     "name": "stdout",
     "output_type": "stream",
     "text": [
      " The list of the difference of the columns between trining set and test set are  ['service_http_8001', 'service_http_2784', 'service_aol', 'service_red_i', 'service_harvest', 'service_urh_i']\n"
     ]
    }
   ],
   "source": [
    "trainservice=df['service'].unique()\n",
    "testservice=df_test['service'].unique()\n",
    "trainservice=df['service'].tolist()\n",
    "testservice= df_test['service'].tolist()\n",
    "difference=list(set(trainservice) - set(testservice))\n",
    "string = 'service_'\n",
    "difference=[string + x for x in difference]\n",
    "print(\" The list of the difference of the columns between trining set and test set are \",difference)"
   ]
  },
  {
   "cell_type": "code",
   "execution_count": 15,
   "metadata": {
    "colab": {
     "base_uri": "https://localhost:8080/",
     "height": 50
    },
    "colab_type": "code",
    "id": "TqABHholIqsC",
    "outputId": "91f9f846-8fc2-49e6-b715-2b7e98c5afc8"
   },
   "outputs": [
    {
     "name": "stdout",
     "output_type": "stream",
     "text": [
      "(22544, 84)\n",
      "(125973, 84)\n"
     ]
    }
   ],
   "source": [
    "#Filling the extra column with zeros\n",
    "for col in difference:\n",
    "    testdf_cat_data[col] = 0\n",
    "\n",
    "print(testdf_cat_data.shape)\n",
    "print(df_cat_data.shape)"
   ]
  },
  {
   "cell_type": "code",
   "execution_count": 16,
   "metadata": {
    "colab": {
     "base_uri": "https://localhost:8080/",
     "height": 50
    },
    "colab_type": "code",
    "id": "sD38pXceK2jk",
    "outputId": "0c73f713-9553-430a-bb8a-b33424f97460"
   },
   "outputs": [
    {
     "name": "stdout",
     "output_type": "stream",
     "text": [
      "(125973, 123)\n",
      "(22544, 123)\n"
     ]
    }
   ],
   "source": [
    "# Joining the dummy columns in Training Dataset\n",
    "Final_df=df.join(df_cat_data)\n",
    "Final_df.drop('flag', axis=1, inplace=True)\n",
    "Final_df.drop('protocol_type', axis=1, inplace=True)\n",
    "Final_df.drop('service', axis=1, inplace=True)\n",
    "\n",
    "# Joining the dummy columns with Test Dataset\n",
    "\n",
    "Final_df_test=df_test.join(testdf_cat_data)\n",
    "Final_df_test.drop('flag', axis=1, inplace=True)\n",
    "Final_df_test.drop('protocol_type', axis=1, inplace=True)\n",
    "Final_df_test.drop('service', axis=1, inplace=True)\n",
    "\n",
    "print(Final_df.shape)\n",
    "print(Final_df_test.shape)"
   ]
  },
  {
   "cell_type": "code",
   "execution_count": 17,
   "metadata": {
    "colab": {},
    "colab_type": "code",
    "id": "sYs1IywFLNCr"
   },
   "outputs": [],
   "source": [
    "attacks = {\n",
    "\t\t'normal': 0,\n",
    "    \n",
    "    'back': 1,\n",
    "    'land': 1,\n",
    "    'neptune': 1,\n",
    "    'pod': 1,\n",
    "    'smurf': 1,\n",
    "    'teardrop': 1,\n",
    "    'mailbomb': 1,\n",
    "    'apache2': 1,\n",
    "    'processtable': 1,\n",
    "    'udpstorm': 1,\n",
    "    \n",
    "    'ipsweep': 2,\n",
    "    'nmap': 2,\n",
    "    'portsweep': 2,\n",
    "    'satan': 2,\n",
    "    'mscan': 2,\n",
    "    'saint': 2,\n",
    "\n",
    "    'ftp_write': 3,\n",
    "    'guess_passwd': 3,\n",
    "    'imap': 3,\n",
    "    'multihop': 3,\n",
    "    'phf': 3,\n",
    "    'spy': 3,\n",
    "    'warezclient': 3,\n",
    "    'warezmaster': 3,\n",
    "    'sendmail': 3,\n",
    "    'named': 3,\n",
    "    'snmpgetattack': 3,\n",
    "    'snmpguess': 3,\n",
    "    'xlock': 3,\n",
    "    'xsnoop': 3,\n",
    "    'worm': 3,\n",
    "    \n",
    "    'buffer_overflow': 4,\n",
    "    'loadmodule': 4,\n",
    "    'perl': 4,\n",
    "    'rootkit': 4,\n",
    "    'httptunnel': 4,\n",
    "    'ps': 4,    \n",
    "    'sqlattack': 4,\n",
    "    'xterm': 4\n",
    "}"
   ]
  },
  {
   "cell_type": "code",
   "execution_count": 18,
   "metadata": {
    "colab": {},
    "colab_type": "code",
    "id": "YC2RcmaaNpZC"
   },
   "outputs": [],
   "source": [
    "# Assigning numeric values to the labels(types of attacks)\n",
    "Final_df['label'] = Final_df['label'].apply(lambda x: attacks[x] if x in attacks else None)\n",
    "Final_df_test['label'] = Final_df_test['label'].apply(lambda x: attacks[x] if x in attacks else None)"
   ]
  },
  {
   "cell_type": "code",
   "execution_count": 19,
   "metadata": {
    "colab": {
     "base_uri": "https://localhost:8080/",
     "height": 50
    },
    "colab_type": "code",
    "id": "HHnyE2NMQf2B",
    "outputId": "9e43a54e-63f4-4b6e-e61e-d9dfc26fe559"
   },
   "outputs": [
    {
     "name": "stdout",
     "output_type": "stream",
     "text": [
      "[0 1 3 2 4]\n",
      "[1 0 2 3 4]\n"
     ]
    }
   ],
   "source": [
    "print(Final_df['label'].unique())\n",
    "print(Final_df_test['label'].unique())"
   ]
  },
  {
   "cell_type": "code",
   "execution_count": 20,
   "metadata": {
    "colab": {},
    "colab_type": "code",
    "id": "u9IrsQE0QpiD"
   },
   "outputs": [],
   "source": [
    "X_Train = Final_df.drop('label',axis=1)\n",
    "Y_Train = Final_df.label\n",
    "X_Test = Final_df_test.drop('label',axis=1)\n",
    "Y_Test = Final_df_test.label"
   ]
  },
  {
   "cell_type": "code",
   "execution_count": 21,
   "metadata": {
    "colab": {},
    "colab_type": "code",
    "id": "cPsSuz63RxRD"
   },
   "outputs": [],
   "source": [
    "from sklearn import preprocessing\n",
    "scaler1 = preprocessing.StandardScaler().fit(X_Train)\n",
    "X_Train=scaler1.transform(X_Train) \n",
    "scaler2 = preprocessing.StandardScaler().fit(X_Test)\n",
    "X_Test=scaler2.transform(X_Test) "
   ]
  },
  {
   "cell_type": "code",
   "execution_count": 22,
   "metadata": {
    "colab": {},
    "colab_type": "code",
    "id": "0LbX0ZJrk-FJ"
   },
   "outputs": [],
   "source": [
    "##############################  Decision Tree ###############################"
   ]
  },
  {
   "cell_type": "code",
   "execution_count": 26,
   "metadata": {
    "colab": {
     "base_uri": "https://localhost:8080/",
     "height": 101
    },
    "colab_type": "code",
    "id": "QvBDNvmh5W8G",
    "outputId": "4dcb1cf0-68b7-454c-e054-eb92fa4d24a5"
   },
   "outputs": [
    {
     "name": "stdout",
     "output_type": "stream",
     "text": [
      "****Decision Tree****\n",
      "Accuracy: 0.98274\n",
      "Precision: 0.96153\n",
      "Recall: 0.95890\n",
      "F-measure: 0.95951\n"
     ]
    }
   ],
   "source": [
    "from sklearn.model_selection import cross_validate\n",
    "\n",
    "clf_dtree=DecisionTreeClassifier(class_weight=None, criterion='entropy', max_depth=None, max_features=None, max_leaf_nodes=None,min_samples_leaf=1, min_samples_split=2, \n",
    "                                 min_weight_fraction_leaf=0.0,random_state=123, splitter='best')\n",
    "print(\"****Decision Tree****\")\n",
    "clf_dtree.fit(X_Train, Y_Train)\n",
    "\n",
    "scoring = {'acc': 'accuracy',\n",
    "           'prec_macro': 'precision_macro',\n",
    "           'f1_macro':'f1_macro',\n",
    "           'rec_macro': 'recall_macro'}\n",
    "scores = cross_validate(clf_dtree, X_Test, Y_Test, cv=10, scoring=scoring,return_train_score=True)\n",
    "print(\"Accuracy: %0.5f\" % (scores['test_acc']).mean())\n",
    "print(\"Precision: %0.5f\" % (scores['test_prec_macro']).mean())\n",
    "print(\"Recall: %0.5f\" % (scores['test_rec_macro']).mean())\n",
    "print(\"F-measure: %0.5f\" % (scores['test_f1_macro']).mean())\n",
    "\n",
    "Y_Pred = cross_val_predict(clf_dtree, X_Test, Y_Test, cv=10)"
   ]
  },
  {
   "cell_type": "code",
   "execution_count": 27,
   "metadata": {
    "colab": {
     "base_uri": "https://localhost:8080/",
     "height": 50
    },
    "colab_type": "code",
    "id": "ddLXwOmFnA4x",
    "outputId": "ffff17fe-63a9-495e-d153-c3e3d320cf0b"
   },
   "outputs": [
    {
     "name": "stdout",
     "output_type": "stream",
     "text": [
      "[0 1 2 3 4]\n",
      "[0 1 2 3 4]\n"
     ]
    }
   ],
   "source": [
    "from sklearn.utils.multiclass import unique_labels\n",
    "print(unique_labels(Y_Pred))\n",
    "print(unique_labels(Y_Test))"
   ]
  },
  {
   "cell_type": "code",
   "execution_count": 28,
   "metadata": {
    "colab": {
     "base_uri": "https://localhost:8080/",
     "height": 398
    },
    "colab_type": "code",
    "id": "HYJvRxh0dJOE",
    "outputId": "28e907ad-50e4-4658-b087-0c315fe4a2fa"
   },
   "outputs": [
    {
     "name": "stdout",
     "output_type": "stream",
     "text": [
      "Confusion matrix, without normalization\n",
      "[[9548   18   28  106   11]\n",
      " [  18 7430    8    2    0]\n",
      " [  28    3 2386    1    3]\n",
      " [ 126    2    2 2615    9]\n",
      " [   8    0    4   12  176]]\n"
     ]
    },
    {
     "data": {
      "image/png": "[encoded data removed]",
      "text/plain": [
       "<Figure size 432x288 with 2 Axes>"
      ]
     },
     "metadata": {
      "needs_background": "light"
     },
     "output_type": "display_data"
    }
   ],
   "source": [
    "class_names=Y_Test.unique()\n",
    "# Plot confusion matrix\n",
    "plot_confusion_matrix(Y_Test, Y_Pred, classes=class_names,\n",
    "                      title='Confusion matrix,Decision Tree')\n",
    "plt.show()"
   ]
  },
  {
   "cell_type": "code",
   "execution_count": 29,
   "metadata": {
    "colab": {
     "base_uri": "https://localhost:8080/",
     "height": 295
    },
    "colab_type": "code",
    "id": "mqRihj9_M8ql",
    "outputId": "41614eb5-f520-42d9-ab1f-8318096d0460"
   },
   "outputs": [
    {
     "data": {
      "image/png": "[encoded data removed]",
      "text/plain": [
       "<Figure size 432x288 with 1 Axes>"
      ]
     },
     "metadata": {
      "needs_background": "light"
     },
     "output_type": "display_data"
    }
   ],
   "source": [
    "#ROC Curve\n",
    "y_bin = label_binarize(Y_Test, classes=[0, 1, 2,3,4])\n",
    "n_classes = y_bin.shape[1]\n",
    "\n",
    "pipe= Pipeline([('scaler', StandardScaler()), ('clf',clf_dtree )])\n",
    "\n",
    "y_score = cross_val_predict(pipe, X_Test, Y_Test, cv=10 ,method='predict_proba')\n",
    "\n",
    "fpr = dict()\n",
    "tpr = dict()\n",
    "roc_auc = dict()\n",
    "for i in range(n_classes):\n",
    "    fpr[i], tpr[i], _ = roc_curve(y_bin[:, i], y_score[:, i])\n",
    "    roc_auc[i] = auc(fpr[i], tpr[i])\n",
    "colors = itertools.cycle(['blue', 'red', 'green','grey','orange'])\n",
    "for i, color in zip(range(n_classes), colors):\n",
    "    plt.plot(fpr[i], tpr[i], color=color, lw=1,\n",
    "             label='ROC curve of class {0} (area = {1:0.2f})'\n",
    "             ''.format(i, roc_auc[i]))\n",
    "plt.plot([0, 1], [0, 1], 'k--', lw=1)\n",
    "plt.xlim([-0.05, 1.0])\n",
    "plt.ylim([0.0, 1.05])\n",
    "plt.xlabel('False Positive Rate')\n",
    "plt.ylabel('True Positive Rate')\n",
    "plt.title('Receiver operating characteristic for multi-class data( Decision Tree)')\n",
    "plt.legend(loc=\"lower right\")\n",
    "plt.show()"
   ]
  },
  {
   "cell_type": "code",
   "execution_count": 30,
   "metadata": {
    "colab": {
     "base_uri": "https://localhost:8080/",
     "height": 366
    },
    "colab_type": "code",
    "id": "jCU2d_iXGsXi",
    "outputId": "6cf8a476-b92f-44b5-e7a9-6e336bfb45b9"
   },
   "outputs": [
    {
     "data": {
      "text/plain": [
       "<module 'matplotlib.pyplot' from '/home/manero/DL/lib/python3.8/site-packages/matplotlib/pyplot.py'>"
      ]
     },
     "execution_count": 30,
     "metadata": {},
     "output_type": "execute_result"
    },
    {
     "data": {
      "image/png": "[encoded data removed]",
      "text/plain": [
       "<Figure size 432x288 with 1 Axes>"
      ]
     },
     "metadata": {
      "needs_background": "light"
     },
     "output_type": "display_data"
    }
   ],
   "source": [
    "####Learning curve generation\n",
    "title = \"Learning Curves (DTree)\"\n",
    "cv = ShuffleSplit(n_splits=10, test_size=0.2, random_state=0)\n",
    "\n",
    "plot_learning_curve(clf_dtree, title, X_Train, Y_Train, ylim=(0.975, 1.023), cv=cv, n_jobs=4)"
   ]
  },
  {
   "cell_type": "code",
   "execution_count": 31,
   "metadata": {
    "colab": {},
    "colab_type": "code",
    "id": "yj7phGZ-Ym5E"
   },
   "outputs": [],
   "source": [
    "############################# RANDOM FOREST #####################################"
   ]
  },
  {
   "cell_type": "code",
   "execution_count": 32,
   "metadata": {
    "colab": {
     "base_uri": "https://localhost:8080/",
     "height": 101
    },
    "colab_type": "code",
    "id": "Jiykw5hD6aeL",
    "outputId": "452d111b-8214-40bf-bae0-71aeec75f006"
   },
   "outputs": [
    {
     "name": "stdout",
     "output_type": "stream",
     "text": [
      "****Random Forest****\n",
      "Accuracy: 0.98572\n",
      "Precision: 0.97383\n",
      "Recall: 0.96218\n",
      "F-measure: 0.96744\n"
     ]
    }
   ],
   "source": [
    "clf_RF=RandomForestClassifier(criterion='entropy',random_state = 5, max_depth = 50,n_estimators = 250, min_samples_split = 5, min_samples_leaf = 1)\n",
    "clf_RF.fit(X_Train, Y_Train)\n",
    "print(\"****Random Forest****\")\n",
    "scores = cross_validate(clf_RF, X_Test, Y_Test, cv=10, scoring=scoring,return_train_score=True)\n",
    "print(\"Accuracy: %0.5f\" % (scores['test_acc']).mean())\n",
    "print(\"Precision: %0.5f\" % (scores['test_prec_macro']).mean())\n",
    "print(\"Recall: %0.5f\" % (scores['test_rec_macro']).mean())\n",
    "print(\"F-measure: %0.5f\" % (scores['test_f1_macro']).mean())\n",
    "\n",
    "Y_Pred = cross_val_predict(clf_RF, X_Test, Y_Test, cv=10)"
   ]
  },
  {
   "cell_type": "code",
   "execution_count": 33,
   "metadata": {
    "colab": {
     "base_uri": "https://localhost:8080/",
     "height": 398
    },
    "colab_type": "code",
    "id": "_J3Q2C6G4FnM",
    "outputId": "141d47ca-bdba-4b13-be31-c8263a82c327"
   },
   "outputs": [
    {
     "name": "stdout",
     "output_type": "stream",
     "text": [
      "Confusion matrix, without normalization\n",
      "[[9590    5   14   97    5]\n",
      " [  16 7439    3    0    0]\n",
      " [  25    2 2394    0    0]\n",
      " [ 122    0    2 2622    8]\n",
      " [  10    0    0   13  177]]\n"
     ]
    },
    {
     "data": {
      "image/png": "[encoded data removed]",
      "text/plain": [
       "<Figure size 432x288 with 2 Axes>"
      ]
     },
     "metadata": {
      "needs_background": "light"
     },
     "output_type": "display_data"
    }
   ],
   "source": [
    "class_names=Y_Test.unique()\n",
    "# Plot non-normalized confusion matrix\n",
    "plot_confusion_matrix(Y_Test, Y_Pred, classes=class_names,\n",
    "                      title='Confusion matrix, Random Forest')\n",
    "plt.show()\n"
   ]
  },
  {
   "cell_type": "code",
   "execution_count": 34,
   "metadata": {
    "colab": {
     "base_uri": "https://localhost:8080/",
     "height": 295
    },
    "colab_type": "code",
    "id": "TAug42fzYtg8",
    "outputId": "ca9e6cbe-62c4-493f-8f18-d70b805df827"
   },
   "outputs": [
    {
     "data": {
      "image/png": "[encoded data removed]",
      "text/plain": [
       "<Figure size 432x288 with 1 Axes>"
      ]
     },
     "metadata": {
      "needs_background": "light"
     },
     "output_type": "display_data"
    }
   ],
   "source": [
    "#ROC Curve\n",
    "y_bin = label_binarize(Y_Test, classes=[0, 1, 2,3,4])\n",
    "n_classes = y_bin.shape[1]\n",
    "\n",
    "pipe= Pipeline([('scaler', StandardScaler()), ('clf',clf_RF )])\n",
    "y_score = cross_val_predict(pipe, X_Test, Y_Test, cv=10 ,method='predict_proba')\n",
    "\n",
    "fpr = dict()\n",
    "tpr = dict()\n",
    "roc_auc = dict()\n",
    "for i in range(n_classes):\n",
    "    fpr[i], tpr[i], _ = roc_curve(y_bin[:, i], y_score[:, i])\n",
    "    roc_auc[i] = auc(fpr[i], tpr[i])\n",
    "colors = itertools.cycle(['blue', 'red', 'green','grey','orange'])\n",
    "for i, color in zip(range(n_classes), colors):\n",
    "    plt.plot(fpr[i], tpr[i], color=color, lw=2,\n",
    "             label='ROC curve of class {0} (area = {1:0.2f})'\n",
    "             ''.format(i, roc_auc[i]))\n",
    "plt.plot([0, 1], [0, 1], 'k--', lw=2)\n",
    "plt.xlim([-0.05, 1.0])\n",
    "plt.ylim([0.0, 1.05])\n",
    "plt.xlabel('False Positive Rate')\n",
    "plt.ylabel('True Positive Rate')\n",
    "plt.title('Receiver operating characteristic for multi-class data (Random Forest)')\n",
    "plt.legend(loc=\"lower right\")\n",
    "plt.show()"
   ]
  },
  {
   "cell_type": "code",
   "execution_count": null,
   "metadata": {
    "colab": {
     "base_uri": "https://localhost:8080/",
     "height": 366
    },
    "colab_type": "code",
    "id": "Whq-O1YUbl2W",
    "outputId": "24d8bd0c-356e-40b8-9115-e50dc65c2e01"
   },
   "outputs": [],
   "source": [
    "####Learning curve generation\n",
    "title = \"Learning Curves (Random Forest)\"\n",
    "# Cross validation with 100 iterations to get smoother mean test and train\n",
    "# score curves, each time with 20% data randomly selected as a validation set.\n",
    "cv = ShuffleSplit(n_splits=10, test_size=0.2, random_state=0)\n",
    "\n",
    "plot_learning_curve(clf_RF, title, X_Train, Y_Train, ylim=(0.975, 1.023), cv=cv, n_jobs=4)"
   ]
  },
  {
   "cell_type": "code",
   "execution_count": null,
   "metadata": {
    "colab": {},
    "colab_type": "code",
    "id": "CUmeToeZZplB"
   },
   "outputs": [],
   "source": [
    "########################### Logistic Regession ###########################"
   ]
  },
  {
   "cell_type": "code",
   "execution_count": null,
   "metadata": {
    "colab": {
     "base_uri": "https://localhost:8080/",
     "height": 101
    },
    "colab_type": "code",
    "id": "3CS2btE_7_-w",
    "outputId": "e71f3f97-5a10-4bba-dcbc-964f2dd2f0c5"
   },
   "outputs": [],
   "source": [
    "clf_LR=LogisticRegression(random_state=0,solver='lbfgs', multi_class='auto',max_iter=2000)\n",
    "clf_LR.fit(X_Train, Y_Train)\n",
    "print(\"****Logistic Regression****\")\n",
    "scores = cross_validate(clf_LR, X_Test, Y_Test, cv=10, scoring=scoring,return_train_score=True)\n",
    "print(\"Accuracy: %0.5f\" % (scores['test_acc']).mean())\n",
    "print(\"Precision: %0.5f\" % (scores['test_prec_macro']).mean())\n",
    "print(\"Recall: %0.5f\" % (scores['test_rec_macro']).mean())\n",
    "print(\"F-measure: %0.5f\" % (scores['test_f1_macro']).mean())\n",
    "\n",
    "Y_Pred = cross_val_predict(clf_LR, X_Test, Y_Test, cv=10)"
   ]
  },
  {
   "cell_type": "code",
   "execution_count": null,
   "metadata": {
    "colab": {
     "base_uri": "https://localhost:8080/",
     "height": 398
    },
    "colab_type": "code",
    "id": "m8uOot2RcyzY",
    "outputId": "afd3c883-829b-4fec-cf58-57799984b3ff"
   },
   "outputs": [],
   "source": [
    "class_names=Y_Test.unique()\n",
    "# Plot non-normalized confusion matrix\n",
    "plot_confusion_matrix(Y_Test, Y_Pred, classes=class_names,\n",
    "                      title='Confusion matrix, without normalization')\n",
    "\n",
    "plt.show()"
   ]
  },
  {
   "cell_type": "code",
   "execution_count": null,
   "metadata": {
    "colab": {
     "base_uri": "https://localhost:8080/",
     "height": 295
    },
    "colab_type": "code",
    "id": "TA6-U47sl_r2",
    "outputId": "ec81eed9-c8c6-4d06-c1d8-7c0a903887df"
   },
   "outputs": [],
   "source": [
    "#ROC Curve\n",
    "y_bin = label_binarize(Y_Test, classes=[0, 1, 2,3,4])\n",
    "n_classes = y_bin.shape[1]\n",
    "\n",
    "pipe= Pipeline([('scaler', StandardScaler()), ('clf',clf_LR )])\n",
    "# or\n",
    "#clf = OneVsRestClassifier(LogisticRegression())\n",
    "#pipe= Pipeline([('scaler', StandardScaler()), ('clf', clf)])\n",
    "y_score = cross_val_predict(pipe, X_Test, Y_Test, cv=10 ,method='predict_proba')\n",
    "\n",
    "fpr = dict()\n",
    "tpr = dict()\n",
    "roc_auc = dict()\n",
    "for i in range(n_classes):\n",
    "    fpr[i], tpr[i], _ = roc_curve(y_bin[:, i], y_score[:, i])\n",
    "    roc_auc[i] = auc(fpr[i], tpr[i])\n",
    "colors = itertools.cycle(['blue', 'red', 'green','grey','orange'])\n",
    "for i, color in zip(range(n_classes), colors):\n",
    "    plt.plot(fpr[i], tpr[i], color=color, lw=2,\n",
    "             label='ROC curve of class {0} (area = {1:0.2f})'\n",
    "             ''.format(i, roc_auc[i]))\n",
    "plt.plot([0, 1], [0, 1], 'k--', lw=2)\n",
    "plt.xlim([-0.05, 1.0])\n",
    "plt.ylim([0.0, 1.05])\n",
    "plt.xlabel('False Positive Rate')\n",
    "plt.ylabel('True Positive Rate')\n",
    "plt.title('Receiver operating characteristic for multi-class data (Logistic Regression)')\n",
    "plt.legend(loc=\"lower right\")\n",
    "plt.show()"
   ]
  },
  {
   "cell_type": "code",
   "execution_count": null,
   "metadata": {
    "colab": {
     "base_uri": "https://localhost:8080/",
     "height": 366
    },
    "colab_type": "code",
    "id": "iIPvKdfBc3bC",
    "outputId": "e4effda1-8117-40fd-90bf-f3779c4f14b5"
   },
   "outputs": [],
   "source": [
    "####Learning curve generation\n",
    "title = \"Learning Curves (Logistic Regression)\"\n",
    "# Cross validation with 100 iterations to get smoother mean test and train\n",
    "# score curves, each time with 20% data randomly selected as a validation set.\n",
    "cv = ShuffleSplit(n_splits=10, test_size=0.2, random_state=0)\n",
    "\n",
    "plot_learning_curve(clf_LR, title, X_Train, Y_Train, ylim=(0.975, 1.023), cv=cv, n_jobs=4)"
   ]
  },
  {
   "cell_type": "code",
   "execution_count": null,
   "metadata": {
    "colab": {},
    "colab_type": "code",
    "id": "r9W7i2RMc855"
   },
   "outputs": [],
   "source": [
    "############################ XGBOOST ########################################"
   ]
  },
  {
   "cell_type": "code",
   "execution_count": null,
   "metadata": {
    "colab": {
     "base_uri": "https://localhost:8080/",
     "height": 101
    },
    "colab_type": "code",
    "id": "beuEM7xFQNJt",
    "outputId": "1d9e3961-8891-4bd0-8b33-b9367a64ae3e"
   },
   "outputs": [],
   "source": [
    "clf_XGB=xgboost.XGBClassifier(learning_rate =0.01, n_estimators=140, max_depth=5,\n",
    " min_child_weight=1, gamma=0, subsample=0.8, colsample_bytree=0.8,\n",
    " objective= 'binary:logistic', nthread=4, scale_pos_weight=1, seed=27)\n",
    "clf_XGB.fit(X_Train, Y_Train)\n",
    "print(\"****XGBoost****\")\n",
    "scores = cross_validate(clf_XGB, X_Test, Y_Test, cv=10, scoring=scoring,return_train_score=True)\n",
    "print(\"Accuracy: %0.5f\" % (scores['test_acc']).mean())\n",
    "print(\"Precision: %0.5f\" % (scores['test_prec_macro']).mean())\n",
    "print(\"Recall: %0.5f\" % (scores['test_rec_macro']).mean())\n",
    "print(\"F-measure: %0.5f\" % (scores['test_f1_macro']).mean())\n",
    "\n",
    "Y_Pred = cross_val_predict(clf_XGB, X_Test, Y_Test, cv=10)"
   ]
  },
  {
   "cell_type": "code",
   "execution_count": null,
   "metadata": {
    "colab": {
     "base_uri": "https://localhost:8080/",
     "height": 398
    },
    "colab_type": "code",
    "id": "cXh4x7ABdL09",
    "outputId": "a1ce54b8-759e-404e-8fdf-025fadaf6684"
   },
   "outputs": [],
   "source": [
    "class_names=Y_Test.unique()\n",
    "# Plot non-normalized confusion matrix\n",
    "plot_confusion_matrix(Y_Test, Y_Pred, classes=class_names,\n",
    "                      \n",
    "                      title='Confusion matrix, without normalization')\n",
    "\n",
    "plt.show()\n"
   ]
  },
  {
   "cell_type": "code",
   "execution_count": null,
   "metadata": {
    "colab": {
     "base_uri": "https://localhost:8080/",
     "height": 295
    },
    "colab_type": "code",
    "id": "i7r_t1Pkcixp",
    "outputId": "5a7fba87-870b-4bfd-b998-29993ae53933"
   },
   "outputs": [],
   "source": [
    "#ROC Curve\n",
    "y_bin = label_binarize(Y_Test, classes=[0, 1, 2,3,4])\n",
    "n_classes = y_bin.shape[1]\n",
    "\n",
    "pipe= Pipeline([('scaler', StandardScaler()), ('clf',clf_XGB )])\n",
    "y_score = cross_val_predict(pipe, X_Test, Y_Test, cv=10 ,method='predict_proba')\n",
    "\n",
    "fpr = dict()\n",
    "tpr = dict()\n",
    "roc_auc = dict()\n",
    "for i in range(n_classes):\n",
    "    fpr[i], tpr[i], _ = roc_curve(y_bin[:, i], y_score[:, i])\n",
    "    roc_auc[i] = auc(fpr[i], tpr[i])\n",
    "colors = itertools.cycle(['blue', 'red', 'green','grey','orange'])\n",
    "for i, color in zip(range(n_classes), colors):\n",
    "    plt.plot(fpr[i], tpr[i], color=color, lw=2,\n",
    "             label='ROC curve of class {0} (area = {1:0.2f})'\n",
    "             ''.format(i, roc_auc[i]))\n",
    "plt.plot([0, 1], [0, 1], 'k--', lw=2)\n",
    "plt.xlim([-0.05, 1.0])\n",
    "plt.ylim([0.0, 1.05])\n",
    "plt.xlabel('False Positive Rate')\n",
    "plt.ylabel('True Positive Rate')\n",
    "plt.title('Receiver operating characteristic for multi-class data(XGBOOST)')\n",
    "plt.legend(loc=\"lower right\")\n",
    "plt.show()"
   ]
  },
  {
   "cell_type": "code",
   "execution_count": null,
   "metadata": {
    "colab": {
     "base_uri": "https://localhost:8080/",
     "height": 366
    },
    "colab_type": "code",
    "id": "GXJDGTkOdZS5",
    "outputId": "c62f4100-b647-41ab-bec2-ebe658567e6b"
   },
   "outputs": [],
   "source": [
    "####Learning curve generation\n",
    "title = \"Learning Curves (XGBoost)\"\n",
    "cv = ShuffleSplit(n_splits=10, test_size=0.2, random_state=0)\n",
    "\n",
    "plot_learning_curve(clf_XGB, title, X_Train, Y_Train, ylim=(0.975, 1.023), cv=cv, n_jobs=4)"
   ]
  },
  {
   "cell_type": "code",
   "execution_count": null,
   "metadata": {
    "colab": {},
    "colab_type": "code",
    "id": "90n_cGoAZv0t"
   },
   "outputs": [],
   "source": [
    "################################ Naive Bayes ############################"
   ]
  },
  {
   "cell_type": "code",
   "execution_count": null,
   "metadata": {
    "colab": {
     "base_uri": "https://localhost:8080/",
     "height": 101
    },
    "colab_type": "code",
    "id": "bwinJqW09Lon",
    "outputId": "fc21f777-e97b-412f-c00a-a21246db74b4"
   },
   "outputs": [],
   "source": [
    "clf_NB=MultinomialNB()\n",
    "clf_NB.fit(X_Train, Y_Train)\n",
    "print(\"****Naive Bayes****\")\n",
    "scores = cross_validate(clf_NB, X_Test, Y_Test, cv=10, scoring=scoring,return_train_score=True)\n",
    "print(\"Accuracy: %0.5f\" % (scores['test_acc']).mean())\n",
    "print(\"Precision: %0.5f\" % (scores['test_prec_macro']).mean())\n",
    "print(\"Recall: %0.5f\" % (scores['test_rec_macro']).mean())\n",
    "print(\"F-measure: %0.5f\" % (scores['test_f1_macro']).mean())\n",
    "\n",
    "Y_Pred = cross_val_predict(clf_NB, X_Test, Y_Test, cv=10)"
   ]
  },
  {
   "cell_type": "code",
   "execution_count": null,
   "metadata": {
    "colab": {
     "base_uri": "https://localhost:8080/",
     "height": 398
    },
    "colab_type": "code",
    "id": "LpoaRKngd2gx",
    "outputId": "a9c5b50b-9f9e-4951-8a3e-e99147a9df32"
   },
   "outputs": [],
   "source": [
    "class_names=Y_Test.unique()\n",
    "# Plot non-normalized confusion matrix\n",
    "plot_confusion_matrix(Y_Test, Y_Pred, classes=class_names,\n",
    "                      title='Confusion matrix, without normalization')\n",
    "\n",
    "plt.show()\n"
   ]
  },
  {
   "cell_type": "code",
   "execution_count": null,
   "metadata": {
    "colab": {
     "base_uri": "https://localhost:8080/",
     "height": 295
    },
    "colab_type": "code",
    "id": "iO2iKHBZbldu",
    "outputId": "929e2202-fd7e-4381-fc11-1dbd3e304465"
   },
   "outputs": [],
   "source": [
    "#ROC Curve\n",
    "y_bin = label_binarize(Y_Test, classes=[0, 1, 2,3,4])\n",
    "n_classes = y_bin.shape[1]\n",
    "\n",
    "pipe= Pipeline([('clf',clf_NB )])\n",
    "y_score = cross_val_predict(pipe, X_Test, Y_Test, cv=10 ,method='predict_proba')\n",
    "\n",
    "fpr = dict()\n",
    "tpr = dict()\n",
    "roc_auc = dict()\n",
    "for i in range(n_classes):\n",
    "    fpr[i], tpr[i], _ = roc_curve(y_bin[:, i], y_score[:, i])\n",
    "    roc_auc[i] = auc(fpr[i], tpr[i])\n",
    "colors = itertools.cycle(['blue', 'red', 'green','grey','orange'])\n",
    "for i, color in zip(range(n_classes), colors):\n",
    "    plt.plot(fpr[i], tpr[i], color=color, lw=2,\n",
    "             label='ROC curve of class {0} (area = {1:0.2f})'\n",
    "             ''.format(i, roc_auc[i]))\n",
    "plt.plot([0, 1], [0, 1], 'k--', lw=2)\n",
    "plt.xlim([-0.05, 1.0])\n",
    "plt.ylim([0.0, 1.05])\n",
    "plt.xlabel('False Positive Rate')\n",
    "plt.ylabel('True Positive Rate')\n",
    "plt.title('Receiver operating characteristic for multi-class data')\n",
    "plt.legend(loc=\"lower right\")\n",
    "plt.show()"
   ]
  },
  {
   "cell_type": "code",
   "execution_count": null,
   "metadata": {
    "colab": {
     "base_uri": "https://localhost:8080/",
     "height": 366
    },
    "colab_type": "code",
    "id": "4-plWbv_FWPS",
    "outputId": "35557fde-7c3a-45e1-9ce8-b4948b0d3ae6"
   },
   "outputs": [],
   "source": [
    "####Learning curve generation\n",
    "title = \"Learning Curves (NB)\"\n",
    "# Cross validation with 100 iterations to get smoother mean test and train\n",
    "# score curves, each time with 20% data randomly selected as a validation set.\n",
    "cv = ShuffleSplit(n_splits=10, test_size=0.2, random_state=0)\n",
    "\n",
    "plot_learning_curve(clf_NB, title, X_Train, Y_Train, ylim=(0.3,0.9), cv=cv, n_jobs=4)"
   ]
  },
  {
   "cell_type": "code",
   "execution_count": null,
   "metadata": {},
   "outputs": [],
   "source": [
    "#EOF"
   ]
  }
 ],
 "metadata": {
  "accelerator": "GPU",
  "colab": {
   "collapsed_sections": [],
   "name": "NSL-Final(Without Feature Selection).ipynb",
   "provenance": []
  },
  "kernelspec": {
   "display_name": "DL",
   "language": "python",
   "name": "dl"
  },
  "language_info": {
   "codemirror_mode": {
    "name": "ipython",
    "version": 3
   },
   "file_extension": ".py",
   "mimetype": "text/x-python",
   "name": "python",
   "nbconvert_exporter": "python",
   "pygments_lexer": "ipython3",
   "version": "3.8.12"
  }
 },
 "nbformat": 4,
 "nbformat_minor": 1
}
